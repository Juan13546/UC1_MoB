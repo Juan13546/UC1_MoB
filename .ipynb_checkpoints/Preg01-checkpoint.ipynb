{
 "cells": [
  {
   "cell_type": "markdown",
   "id": "cc95d055",
   "metadata": {},
   "source": [
    "# PREGUNTA 01"
   ]
  },
  {
   "cell_type": "markdown",
   "id": "21d2d33d",
   "metadata": {},
   "source": [
    "Intercambiar valores de 2 variables"
   ]
  },
  {
   "cell_type": "code",
   "execution_count": 1,
   "id": "76fc33bf",
   "metadata": {},
   "outputs": [],
   "source": [
    "A=8\n",
    "B=9\n",
    "A ,B = B,A"
   ]
  },
  {
   "cell_type": "code",
   "execution_count": 2,
   "id": "2450eca3",
   "metadata": {},
   "outputs": [
    {
     "data": {
      "text/plain": [
       "9"
      ]
     },
     "execution_count": 2,
     "metadata": {},
     "output_type": "execute_result"
    }
   ],
   "source": [
    "A\n"
   ]
  },
  {
   "cell_type": "code",
   "execution_count": 3,
   "id": "adbcf7e8",
   "metadata": {},
   "outputs": [
    {
     "data": {
      "text/plain": [
       "8"
      ]
     },
     "execution_count": 3,
     "metadata": {},
     "output_type": "execute_result"
    }
   ],
   "source": [
    "B"
   ]
  }
 ],
 "metadata": {
  "kernelspec": {
   "display_name": "Python 3 (ipykernel)",
   "language": "python",
   "name": "python3"
  },
  "language_info": {
   "codemirror_mode": {
    "name": "ipython",
    "version": 3
   },
   "file_extension": ".py",
   "mimetype": "text/x-python",
   "name": "python",
   "nbconvert_exporter": "python",
   "pygments_lexer": "ipython3",
   "version": "3.9.12"
  }
 },
 "nbformat": 4,
 "nbformat_minor": 5
}
